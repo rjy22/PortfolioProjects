{
 "cells": [
  {
   "cell_type": "markdown",
   "id": "b2410a3e",
   "metadata": {},
   "source": [
    "# BMI Calculator\n",
    "BMI interpretation based on National Institutes of Health (NIH) BMI Calculator:\n",
    "https://www.nhlbi.nih.gov/health/educational/lose_wt/BMI/bmicalc.htm\n",
    "<br>\n",
    "Guided project facilitated by Alex Freberg (YT: Alex The Analyst): https://youtu.be/ey1VNjU0YbM\n"
   ]
  },
  {
   "cell_type": "code",
   "execution_count": null,
   "id": "21857b7b",
   "metadata": {},
   "outputs": [],
   "source": [
    "# BMI = (weight(lbs) x 703) / (height(in.) x height(in.))"
   ]
  },
  {
   "cell_type": "code",
   "execution_count": null,
   "id": "fcd04117",
   "metadata": {},
   "outputs": [],
   "source": [
    "weight = int(input(\"Enter your weight in pounds: \"))\n",
    "\n",
    "height = int(input(\"Enter your height in inches: \"))\n",
    "\n",
    "BMI = (weight * 703) / (height * height)\n",
    "\n",
    "print(\"Your BMI: \", round(BMI,2))\n",
    "\n",
    "if BMI > 0:\n",
    "    if(BMI < 18.5):\n",
    "        print(\"Underweight, Minimal health risk\")\n",
    "    elif(BMI <= 24.9):\n",
    "        print(\"Normal weight, Minimal health risk\")\n",
    "    elif(BMI <= 29.9):\n",
    "        print(\"Overweight, Increased health risk\")\n",
    "    else:\n",
    "        print(\"Obese, High health risk\")\n",
    "else:\n",
    "    print(\"Please enter valid inputs.\")"
   ]
  },
  {
   "cell_type": "code",
   "execution_count": null,
   "id": "e40969ca",
   "metadata": {},
   "outputs": [],
   "source": []
  },
  {
   "cell_type": "code",
   "execution_count": null,
   "id": "a8e5d96c",
   "metadata": {},
   "outputs": [],
   "source": []
  },
  {
   "cell_type": "code",
   "execution_count": null,
   "id": "dc31160d",
   "metadata": {},
   "outputs": [],
   "source": []
  },
  {
   "cell_type": "code",
   "execution_count": null,
   "id": "ca225f60",
   "metadata": {},
   "outputs": [],
   "source": []
  }
 ],
 "metadata": {
  "kernelspec": {
   "display_name": "Python 3 (ipykernel)",
   "language": "python",
   "name": "python3"
  },
  "language_info": {
   "codemirror_mode": {
    "name": "ipython",
    "version": 3
   },
   "file_extension": ".py",
   "mimetype": "text/x-python",
   "name": "python",
   "nbconvert_exporter": "python",
   "pygments_lexer": "ipython3",
   "version": "3.9.12"
  }
 },
 "nbformat": 4,
 "nbformat_minor": 5
}
