{
 "cells": [
  {
   "cell_type": "markdown",
   "id": "2e6e090d",
   "metadata": {},
   "source": [
    "# Sample Automatic File Sorter in File Explorer\n",
    "Guided project faciliated by Alex Freberg (YT: Alex The Analyst): https://youtu.be/gs0FNQR0njI"
   ]
  },
  {
   "cell_type": "code",
   "execution_count": null,
   "id": "fb112ec2",
   "metadata": {},
   "outputs": [],
   "source": [
    "import os, shutil"
   ]
  },
  {
   "cell_type": "code",
   "execution_count": null,
   "id": "1cf2c47c",
   "metadata": {},
   "outputs": [],
   "source": [
    "# replace text strings with desired path, folder names, file types\n",
    "\n",
    "path = r\"C:/Users/rjy22/OneDrive/Documents/Data Analytics Portfolio/Temp File/\""
   ]
  },
  {
   "cell_type": "code",
   "execution_count": null,
   "id": "444611d7",
   "metadata": {},
   "outputs": [],
   "source": [
    "file_names = os.listdir(path)"
   ]
  },
  {
   "cell_type": "code",
   "execution_count": null,
   "id": "11c73436",
   "metadata": {},
   "outputs": [],
   "source": [
    "folder_names = ['pdf files', 'image files', 'txt files']\n",
    "\n",
    "for loop in range(0,3):\n",
    "    if not os.path.exists(path + folder_names[loop]):\n",
    "        os.makedirs(path + folder_names[loop])\n",
    "\n",
    "for file in file_names:\n",
    "    if \".pdf\" in file and not os.path.exists(path + \"pdf files/\" + file):\n",
    "        shutil.move(path + file, path + \"pdf files/\" + file)\n",
    "        print(\"PDF move success!\")\n",
    "    elif \".png\" in file and not os.path.exists(path + \"image files/\" + file):\n",
    "        shutil.move(path + file, path + \"image files/\" + file)\n",
    "        print(\"PNG move success!\")\n",
    "    elif \".txt\" in file and not os.path.exists(path + \"txt files/\" + file):\n",
    "        shutil.move(path + file, path + \"txt files/\" + file)\n",
    "        print(\"TXT move success!\")"
   ]
  }
 ],
 "metadata": {
  "kernelspec": {
   "display_name": "Python 3 (ipykernel)",
   "language": "python",
   "name": "python3"
  },
  "language_info": {
   "codemirror_mode": {
    "name": "ipython",
    "version": 3
   },
   "file_extension": ".py",
   "mimetype": "text/x-python",
   "name": "python",
   "nbconvert_exporter": "python",
   "pygments_lexer": "ipython3",
   "version": "3.9.12"
  }
 },
 "nbformat": 4,
 "nbformat_minor": 5
}
